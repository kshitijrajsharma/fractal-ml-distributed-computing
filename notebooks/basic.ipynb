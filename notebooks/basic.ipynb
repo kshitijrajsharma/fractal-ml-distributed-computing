{
 "cells": [
  {
   "cell_type": "code",
   "execution_count": 3,
   "id": "633f3d75",
   "metadata": {},
   "outputs": [],
   "source": [
    "from pyspark import SparkContext"
   ]
  },
  {
   "cell_type": "code",
   "execution_count": 4,
   "id": "7e3daf9d",
   "metadata": {},
   "outputs": [
    {
     "name": "stdout",
     "output_type": "stream",
     "text": [
      "Hello: 1\n",
      "world: 1\n",
      "Apache: 1\n",
      "Spark: 1\n",
      "is: 2\n",
      "powerful: 1\n",
      "Big: 1\n",
      "Data: 1\n",
      "growing: 1\n",
      "fast: 1\n"
     ]
    }
   ],
   "source": [
    "sc = SparkContext(\"local\", \"WordCount\")\n",
    "\n",
    "data = [\"Hello world\", \"Apache Spark is powerful\", \"Big Data is growing fast\"]\n",
    "rdd = sc.parallelize(data)\n",
    "\n",
    "words = rdd.flatMap(lambda line: line.split(\" \"))\n",
    "word_counts = words.map(lambda word: (word, 1)).reduceByKey(lambda a, b: a + b)\n",
    "\n",
    "for word, count in word_counts.collect():\n",
    "    print(f\"{word}: {count}\")\n",
    "\n",
    "sc.stop()"
   ]
  },
  {
   "cell_type": "code",
   "execution_count": null,
   "id": "0a7a462a",
   "metadata": {},
   "outputs": [],
   "source": []
  }
 ],
 "metadata": {
  "kernelspec": {
   "display_name": "fraction-ml-distributed-computing",
   "language": "python",
   "name": "python3"
  },
  "language_info": {
   "codemirror_mode": {
    "name": "ipython",
    "version": 3
   },
   "file_extension": ".py",
   "mimetype": "text/x-python",
   "name": "python",
   "nbconvert_exporter": "python",
   "pygments_lexer": "ipython3",
   "version": "3.13.2"
  }
 },
 "nbformat": 4,
 "nbformat_minor": 5
}
